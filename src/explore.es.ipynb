{
    "cells": [
        {
            "cell_type": "markdown",
            "metadata": {},
            "source": [
                "# Explora aquí\n",
                "\n",
                "Se recomienda utilizar este cuaderno con fines de exploración."
            ]
        },
        {
            "cell_type": "code",
            "execution_count": 2,
            "metadata": {},
            "outputs": [],
            "source": [
                "import os\n",
                "from bs4 import BeautifulSoup\n",
                "import requests\n",
                "import time\n",
                "import sqlite3\n",
                "import matplotlib.pyplot as plt\n",
                "import seaborn as sns\n",
                "import pandas as pd"
            ]
        },
        {
            "cell_type": "code",
            "execution_count": 7,
            "metadata": {},
            "outputs": [
                {
                    "data": {
                        "text/plain": [
                            "<Response [200]>"
                        ]
                    },
                    "execution_count": 7,
                    "metadata": {},
                    "output_type": "execute_result"
                }
            ],
            "source": [
                "#PASO 2\n",
                "url = \"https://en.wikipedia.org/wiki/List_of_Spotify_streaming_records\"\n",
                "headers = {\n",
                "    \"User-Agent\": \"Mozilla/5.0 (Windows NT 10.0; Win64; x64) \"\n",
                "                  \"AppleWebKit/537.36 (KHTML, like Gecko) \"\n",
                "                  \"Chrome/140.0.0.0 Safari/537.36\"}\n",
                "\n",
                "response = requests.get(url, headers=headers)\n",
                "html = response.text\n",
                "response"
            ]
        },
        {
            "cell_type": "code",
            "execution_count": 11,
            "metadata": {},
            "outputs": [
                {
                    "name": "stdout",
                    "output_type": "stream",
                    "text": [
                        "  Rank                 Song                 Artist(s) Streams (billions)  \\\n",
                        "0    1    \"Blinding Lights\"                The Weeknd              5.052   \n",
                        "1    2       \"Shape of You\"                Ed Sheeran              4.574   \n",
                        "2    3            \"Starboy\"  The Weeknd and Daft Punk              4.119   \n",
                        "3    4  \"Someone You Loved\"             Lewis Capaldi              4.071   \n",
                        "4    5    \"Sweater Weather\"         The Neighbourhood              4.059   \n",
                        "\n",
                        "        Release date Ref.  \n",
                        "0   29 November 2019  [1]  \n",
                        "1     6 January 2017  [2]  \n",
                        "2  21 September 2016  [3]  \n",
                        "3    8 November 2018  [4]  \n",
                        "4    3 December 2012  [5]  \n"
                    ]
                },
                {
                    "name": "stderr",
                    "output_type": "stream",
                    "text": [
                        "/tmp/ipykernel_4603/4148946236.py:4: FutureWarning: Passing literal html to 'read_html' is deprecated and will be removed in a future version. To read from a literal string, wrap it in a 'StringIO' object.\n",
                        "  df = pd.read_html(str(tablas[0]))[0]\n"
                    ]
                }
            ],
            "source": [
                "#PASO 3\n",
                "soup = BeautifulSoup(html, 'html.parser')\n",
                "tablas = soup.find_all('table')\n",
                "df = pd.read_html(str(tablas[0]))[0]\n",
                "print(df.head())"
            ]
        },
        {
            "cell_type": "code",
            "execution_count": null,
            "metadata": {},
            "outputs": [
                {
                    "name": "stdout",
                    "output_type": "stream",
                    "text": [
                        "  Rank                 Song                 Artist(s) Streams (billions)  \\\n",
                        "0    1    \"Blinding Lights\"                The Weeknd              5.052   \n",
                        "1    2       \"Shape of You\"                Ed Sheeran              4.574   \n",
                        "2    3            \"Starboy\"  The Weeknd and Daft Punk              4.119   \n",
                        "3    4  \"Someone You Loved\"             Lewis Capaldi              4.071   \n",
                        "4    5    \"Sweater Weather\"         The Neighbourhood              4.059   \n",
                        "\n",
                        "        Release date Ref.  \n",
                        "0   29 November 2019  [1]  \n",
                        "1     6 January 2017  [2]  \n",
                        "2  21 September 2016  [3]  \n",
                        "3    8 November 2018  [4]  \n",
                        "4    3 December 2012  [5]  \n"
                    ]
                }
            ],
            "source": [
                "#PASO 4\n",
                "for columna in df.select_dtypes(include='object').columns:\n",
                "    df[columna] = df[columna].str.strip()\n",
                "\n",
                "print(df.head())"
            ]
        }
    ],
    "metadata": {
        "kernelspec": {
            "display_name": "Python 3",
            "language": "python",
            "name": "python3"
        },
        "language_info": {
            "codemirror_mode": {
                "name": "ipython",
                "version": 3
            },
            "file_extension": ".py",
            "mimetype": "text/x-python",
            "name": "python",
            "nbconvert_exporter": "python",
            "pygments_lexer": "ipython3",
            "version": "3.11.4"
        },
        "orig_nbformat": 4
    },
    "nbformat": 4,
    "nbformat_minor": 2
}
