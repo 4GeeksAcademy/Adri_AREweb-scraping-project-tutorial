{
    "cells": [
        {
            "cell_type": "markdown",
            "metadata": {},
            "source": [
                "# Explora aquí\n",
                "\n",
                "Se recomienda utilizar este cuaderno con fines de exploración."
            ]
        },
        {
            "cell_type": "code",
            "execution_count": 2,
            "metadata": {},
            "outputs": [],
            "source": [
                "import os\n",
                "from bs4 import BeautifulSoup\n",
                "import requests\n",
                "import time\n",
                "import sqlite3\n",
                "import matplotlib.pyplot as plt\n",
                "import seaborn as sns\n",
                "import pandas as pd"
            ]
        },
        {
            "cell_type": "code",
            "execution_count": 7,
            "metadata": {},
            "outputs": [
                {
                    "data": {
                        "text/plain": [
                            "<Response [200]>"
                        ]
                    },
                    "execution_count": 7,
                    "metadata": {},
                    "output_type": "execute_result"
                }
            ],
            "source": [
                "#PASO 2\n",
                "url = \"https://en.wikipedia.org/wiki/List_of_Spotify_streaming_records\"\n",
                "headers = {\n",
                "    \"User-Agent\": \"Mozilla/5.0 (Windows NT 10.0; Win64; x64) \"\n",
                "                  \"AppleWebKit/537.36 (KHTML, like Gecko) \"\n",
                "                  \"Chrome/140.0.0.0 Safari/537.36\"}\n",
                "\n",
                "response = requests.get(url, headers=headers)\n",
                "html = response.text\n",
                "response"
            ]
        },
        {
            "cell_type": "code",
            "execution_count": 11,
            "metadata": {},
            "outputs": [
                {
                    "name": "stdout",
                    "output_type": "stream",
                    "text": [
                        "  Rank                 Song                 Artist(s) Streams (billions)  \\\n",
                        "0    1    \"Blinding Lights\"                The Weeknd              5.052   \n",
                        "1    2       \"Shape of You\"                Ed Sheeran              4.574   \n",
                        "2    3            \"Starboy\"  The Weeknd and Daft Punk              4.119   \n",
                        "3    4  \"Someone You Loved\"             Lewis Capaldi              4.071   \n",
                        "4    5    \"Sweater Weather\"         The Neighbourhood              4.059   \n",
                        "\n",
                        "        Release date Ref.  \n",
                        "0   29 November 2019  [1]  \n",
                        "1     6 January 2017  [2]  \n",
                        "2  21 September 2016  [3]  \n",
                        "3    8 November 2018  [4]  \n",
                        "4    3 December 2012  [5]  \n"
                    ]
                },
                {
                    "name": "stderr",
                    "output_type": "stream",
                    "text": [
                        "/tmp/ipykernel_4603/4148946236.py:4: FutureWarning: Passing literal html to 'read_html' is deprecated and will be removed in a future version. To read from a literal string, wrap it in a 'StringIO' object.\n",
                        "  df = pd.read_html(str(tablas[0]))[0]\n"
                    ]
                }
            ],
            "source": [
                "#PASO 3\n",
                "soup = BeautifulSoup(html, 'html.parser')\n",
                "tablas = soup.find_all('table')\n",
                "df = pd.read_html(str(tablas[0]))[0]\n",
                "print(df.head())"
            ]
        },
        {
            "cell_type": "code",
            "execution_count": null,
            "metadata": {},
            "outputs": [
                {
                    "name": "stdout",
                    "output_type": "stream",
                    "text": [
                        "  Rank                 Song                 Artist(s) Streams (billions)  \\\n",
                        "0    1    \"Blinding Lights\"                The Weeknd              5.052   \n",
                        "1    2       \"Shape of You\"                Ed Sheeran              4.574   \n",
                        "2    3            \"Starboy\"  The Weeknd and Daft Punk              4.119   \n",
                        "3    4  \"Someone You Loved\"             Lewis Capaldi              4.071   \n",
                        "4    5    \"Sweater Weather\"         The Neighbourhood              4.059   \n",
                        "\n",
                        "        Release date Ref.  \n",
                        "0   29 November 2019  [1]  \n",
                        "1     6 January 2017  [2]  \n",
                        "2  21 September 2016  [3]  \n",
                        "3    8 November 2018  [4]  \n",
                        "4    3 December 2012  [5]  \n"
                    ]
                }
            ],
            "source": [
                "#PASO 4\n",
                "for columna in df.select_dtypes(include='object').columns:\n",
                "    df[columna] = df[columna].str.strip()\n",
                "\n",
                "print(df.head())"
            ]
        },
        {
            "cell_type": "code",
            "execution_count": 15,
            "metadata": {},
            "outputs": [],
            "source": [
                "#PASO 5\n",
                "conexion = sqlite3.connect(\"spotify_records.db\")\n",
                "cursor = conexion.cursor()\n",
                "\n",
                "cursor.execute(\"\"\"\n",
                "CREATE TABLE IF NOT EXISTS spotify (\n",
                "    Rango INTEGER,\n",
                "    Cancion TEXT,\n",
                "    Artista TEXT,\n",
                "    Streams REAL,\n",
                "    Fecha DATE\n",
                ")\n",
                "\"\"\")\n",
                "\n",
                "for i, row in df.iterrows():\n",
                "    cursor.execute(\"\"\"\n",
                "    INSERT INTO spotify (Rango, Cancion, Artista, Streams, Fecha)\n",
                "    VALUES (?, ?, ?, ?, ?)\n",
                "    \"\"\", (row['Rank'], row['Song'], row['Artist(s)'], row['Streams (billions)'], row['Release date']))\n",
                "\n",
                "conexion.commit()\n",
                "conexion.close()\n"
            ]
        },
        {
            "cell_type": "code",
            "execution_count": 28,
            "metadata": {},
            "outputs": [
                {
                    "ename": "TypeError",
                    "evalue": "Column 'Streams (billions)' has dtype object, cannot use method 'nlargest' with this dtype",
                    "output_type": "error",
                    "traceback": [
                        "\u001b[31m---------------------------------------------------------------------------\u001b[39m",
                        "\u001b[31mTypeError\u001b[39m                                 Traceback (most recent call last)",
                        "\u001b[36mCell\u001b[39m\u001b[36m \u001b[39m\u001b[32mIn[28]\u001b[39m\u001b[32m, line 2\u001b[39m\n\u001b[32m      1\u001b[39m \u001b[38;5;66;03m#PASO 6\u001b[39;00m\n\u001b[32m----> \u001b[39m\u001b[32m2\u001b[39m top10 = \u001b[43mdf\u001b[49m\u001b[43m.\u001b[49m\u001b[43mnlargest\u001b[49m\u001b[43m(\u001b[49m\u001b[32;43m10\u001b[39;49m\u001b[43m,\u001b[49m\u001b[43m \u001b[49m\u001b[33;43m\"\u001b[39;49m\u001b[33;43mStreams (billions)\u001b[39;49m\u001b[33;43m\"\u001b[39;49m\u001b[43m)\u001b[49m\n\u001b[32m      4\u001b[39m plt.figure(figsize=(\u001b[32m12\u001b[39m, \u001b[32m6\u001b[39m))\n\u001b[32m      5\u001b[39m sns.barplot(\n\u001b[32m      6\u001b[39m     data=top10,\n\u001b[32m      7\u001b[39m     x=\u001b[33m\"\u001b[39m\u001b[33mStreams (billions)\u001b[39m\u001b[33m\"\u001b[39m,\n\u001b[32m   (...)\u001b[39m\u001b[32m     11\u001b[39m     legend=\u001b[38;5;28;01mFalse\u001b[39;00m\n\u001b[32m     12\u001b[39m )\n",
                        "\u001b[36mFile \u001b[39m\u001b[32m~/.local/lib/python3.11/site-packages/pandas/core/frame.py:7666\u001b[39m, in \u001b[36mDataFrame.nlargest\u001b[39m\u001b[34m(self, n, columns, keep)\u001b[39m\n\u001b[32m   7547\u001b[39m \u001b[38;5;28;01mdef\u001b[39;00m\u001b[38;5;250m \u001b[39m\u001b[34mnlargest\u001b[39m(\n\u001b[32m   7548\u001b[39m     \u001b[38;5;28mself\u001b[39m, n: \u001b[38;5;28mint\u001b[39m, columns: IndexLabel, keep: NsmallestNlargestKeep = \u001b[33m\"\u001b[39m\u001b[33mfirst\u001b[39m\u001b[33m\"\u001b[39m\n\u001b[32m   7549\u001b[39m ) -> DataFrame:\n\u001b[32m   7550\u001b[39m \u001b[38;5;250m    \u001b[39m\u001b[33;03m\"\"\"\u001b[39;00m\n\u001b[32m   7551\u001b[39m \u001b[33;03m    Return the first `n` rows ordered by `columns` in descending order.\u001b[39;00m\n\u001b[32m   7552\u001b[39m \n\u001b[32m   (...)\u001b[39m\u001b[32m   7664\u001b[39m \u001b[33;03m    Brunei      434000    12128      BN\u001b[39;00m\n\u001b[32m   7665\u001b[39m \u001b[33;03m    \"\"\"\u001b[39;00m\n\u001b[32m-> \u001b[39m\u001b[32m7666\u001b[39m     \u001b[38;5;28;01mreturn\u001b[39;00m \u001b[43mselectn\u001b[49m\u001b[43m.\u001b[49m\u001b[43mSelectNFrame\u001b[49m\u001b[43m(\u001b[49m\u001b[38;5;28;43mself\u001b[39;49m\u001b[43m,\u001b[49m\u001b[43m \u001b[49m\u001b[43mn\u001b[49m\u001b[43m=\u001b[49m\u001b[43mn\u001b[49m\u001b[43m,\u001b[49m\u001b[43m \u001b[49m\u001b[43mkeep\u001b[49m\u001b[43m=\u001b[49m\u001b[43mkeep\u001b[49m\u001b[43m,\u001b[49m\u001b[43m \u001b[49m\u001b[43mcolumns\u001b[49m\u001b[43m=\u001b[49m\u001b[43mcolumns\u001b[49m\u001b[43m)\u001b[49m\u001b[43m.\u001b[49m\u001b[43mnlargest\u001b[49m\u001b[43m(\u001b[49m\u001b[43m)\u001b[49m\n",
                        "\u001b[36mFile \u001b[39m\u001b[32m~/.local/lib/python3.11/site-packages/pandas/core/methods/selectn.py:57\u001b[39m, in \u001b[36mSelectN.nlargest\u001b[39m\u001b[34m(self)\u001b[39m\n\u001b[32m     55\u001b[39m \u001b[38;5;129m@final\u001b[39m\n\u001b[32m     56\u001b[39m \u001b[38;5;28;01mdef\u001b[39;00m\u001b[38;5;250m \u001b[39m\u001b[34mnlargest\u001b[39m(\u001b[38;5;28mself\u001b[39m):\n\u001b[32m---> \u001b[39m\u001b[32m57\u001b[39m     \u001b[38;5;28;01mreturn\u001b[39;00m \u001b[38;5;28;43mself\u001b[39;49m\u001b[43m.\u001b[49m\u001b[43mcompute\u001b[49m\u001b[43m(\u001b[49m\u001b[33;43m\"\u001b[39;49m\u001b[33;43mnlargest\u001b[39;49m\u001b[33;43m\"\u001b[39;49m\u001b[43m)\u001b[49m\n",
                        "\u001b[36mFile \u001b[39m\u001b[32m~/.local/lib/python3.11/site-packages/pandas/core/methods/selectn.py:201\u001b[39m, in \u001b[36mSelectNFrame.compute\u001b[39m\u001b[34m(self, method)\u001b[39m\n\u001b[32m    199\u001b[39m     dtype = frame[column].dtype\n\u001b[32m    200\u001b[39m     \u001b[38;5;28;01mif\u001b[39;00m \u001b[38;5;129;01mnot\u001b[39;00m \u001b[38;5;28mself\u001b[39m.is_valid_dtype_n_method(dtype):\n\u001b[32m--> \u001b[39m\u001b[32m201\u001b[39m         \u001b[38;5;28;01mraise\u001b[39;00m \u001b[38;5;167;01mTypeError\u001b[39;00m(\n\u001b[32m    202\u001b[39m             \u001b[33mf\u001b[39m\u001b[33m\"\u001b[39m\u001b[33mColumn \u001b[39m\u001b[38;5;132;01m{\u001b[39;00m\u001b[38;5;28mrepr\u001b[39m(column)\u001b[38;5;132;01m}\u001b[39;00m\u001b[33m has dtype \u001b[39m\u001b[38;5;132;01m{\u001b[39;00mdtype\u001b[38;5;132;01m}\u001b[39;00m\u001b[33m, \u001b[39m\u001b[33m\"\u001b[39m\n\u001b[32m    203\u001b[39m             \u001b[33mf\u001b[39m\u001b[33m\"\u001b[39m\u001b[33mcannot use method \u001b[39m\u001b[38;5;132;01m{\u001b[39;00m\u001b[38;5;28mrepr\u001b[39m(method)\u001b[38;5;132;01m}\u001b[39;00m\u001b[33m with this dtype\u001b[39m\u001b[33m\"\u001b[39m\n\u001b[32m    204\u001b[39m         )\n\u001b[32m    206\u001b[39m \u001b[38;5;28;01mdef\u001b[39;00m\u001b[38;5;250m \u001b[39m\u001b[34mget_indexer\u001b[39m(current_indexer, other_indexer):\n\u001b[32m    207\u001b[39m \u001b[38;5;250m    \u001b[39m\u001b[33;03m\"\"\"\u001b[39;00m\n\u001b[32m    208\u001b[39m \u001b[33;03m    Helper function to concat `current_indexer` and `other_indexer`\u001b[39;00m\n\u001b[32m    209\u001b[39m \u001b[33;03m    depending on `method`\u001b[39;00m\n\u001b[32m    210\u001b[39m \u001b[33;03m    \"\"\"\u001b[39;00m\n",
                        "\u001b[31mTypeError\u001b[39m: Column 'Streams (billions)' has dtype object, cannot use method 'nlargest' with this dtype"
                    ]
                }
            ],
            "source": [
                "#PASO 6\n",
                "top10 = df.nlargest(10, \"Streams (billions)\")\n",
                "\n",
                "plt.figure(figsize=(12, 6))\n",
                "sns.barplot(\n",
                "    data=top10,\n",
                "    x=\"Streams (billions)\",\n",
                "    y=\"Song\",\n",
                "    hue=\"Song\",\n",
                "    palette=\"viridis\",\n",
                "    legend=False\n",
                ")\n",
                "\n",
                "plt.title(\"Las 10 canciones más reproducidas en Spotify\")\n",
                "plt.xlabel(\"Reproducciones (en miles de millones)\")\n",
                "plt.ylabel(\"Canción\")\n",
                "plt.tight_layout()\n",
                "plt.show()\n"
            ]
        }
    ],
    "metadata": {
        "kernelspec": {
            "display_name": "Python 3",
            "language": "python",
            "name": "python3"
        },
        "language_info": {
            "codemirror_mode": {
                "name": "ipython",
                "version": 3
            },
            "file_extension": ".py",
            "mimetype": "text/x-python",
            "name": "python",
            "nbconvert_exporter": "python",
            "pygments_lexer": "ipython3",
            "version": "3.11.4"
        },
        "orig_nbformat": 4
    },
    "nbformat": 4,
    "nbformat_minor": 2
}
